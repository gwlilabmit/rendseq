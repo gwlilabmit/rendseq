{
 "cells": [
  {
   "cell_type": "markdown",
   "metadata": {
    "tags": []
   },
   "source": [
    "### 1. Import required modules"
   ]
  },
  {
   "cell_type": "code",
   "execution_count": 4,
   "metadata": {
    "tags": []
   },
   "outputs": [],
   "source": [
    "import numpy as np\n",
    "import pandas as pd\n",
    "import scipy.stats as stats\n",
    "from datetime import datetime\n",
    "from rendseq import file_funcs\n",
    "from rendseq import utility_funcs\n",
    "from rendseq import ramps_steps as rmp"
   ]
  },
  {
   "cell_type": "markdown",
   "metadata": {
    "tags": []
   },
   "source": [
    "### 2. User-defined inputs\n",
    "\n",
    "* Required:\n",
    "    + Input appropriate filename for the raw reads .wig file\n",
    "    + Input appropriate filename for the precomputed peaks .wig file\n",
    "    +  Input desired paramaters: window_width, blur_width, min_cutoff\n",
    "        + window_width = 400, blur_width = 200 worked well for B. subtilis ramps, which were mostly long (1000+ bps)\n",
    "* Optional:\n",
    "    + Change sample_name, which will impact the output filenames\n",
    "    + Customize output filenames if desired"
   ]
  },
  {
   "cell_type": "code",
   "execution_count": 7,
   "metadata": {},
   "outputs": [
    {
     "name": "stdout",
     "output_type": "stream",
     "text": [
      ".csv output filename for increasing stretches:  Jean_5f_inc_400_200_min700.csv\n",
      ".csv output filename for decreasing stretches:  Jean_5f_dec_400_200_min700.csv\n",
      ".wig output filename (both increasing and decreasing):  Jean_5f_400_200_min700.wig\n"
     ]
    }
   ],
   "source": [
    "## input filenames\n",
    "reads_filename = 'Example_Data/example_wig_Jean_5f_subset.wig'\n",
    "peaks_filename = 'Example_Data/example_wig_thresh_peaks.wig'\n",
    "\n",
    "## parameters\n",
    "window_width = 400\n",
    "blur_width = 200\n",
    "min_cutoff = 700 ## min_cutoff > window_width + blur_width\n",
    "\n",
    "## output filename details\n",
    "sample_name = \"Jean_5f\"\n",
    "path = \"\"\n",
    "inc_output_filename = \"{p}{n}_inc_{w}_{b}_min{c}.csv\".format(p = path, n = sample_name, w = window_width, b = blur_width, c = min_cutoff)\n",
    "dec_output_filename = \"{p}{n}_dec_{w}_{b}_min{c}.csv\".format(p = path, n = sample_name, w = window_width, b = blur_width, c = min_cutoff)\n",
    "wig_output_filename = \"{p}{n}_{w}_{b}_min{c}.wig\".format(p = path, n = sample_name, w = window_width, b = blur_width, c = min_cutoff)\n",
    "\n",
    "## prints the output filenames\n",
    "print('.csv output filename for increasing stretches: ', inc_output_filename)\n",
    "print('.csv output filename for decreasing stretches: ', dec_output_filename)\n",
    "print('.wig output filename (both increasing and decreasing): ', wig_output_filename)"
   ]
  },
  {
   "cell_type": "markdown",
   "metadata": {
    "tags": []
   },
   "source": [
    "### 3. Process the data"
   ]
  },
  {
   "cell_type": "markdown",
   "metadata": {},
   "source": [
    "#### 3.1 Pre-processing\n",
    "\n",
    "Read in the data, shave peaks, zero-pad the reads"
   ]
  },
  {
   "cell_type": "code",
   "execution_count": 8,
   "metadata": {},
   "outputs": [
    {
     "name": "stdout",
     "output_type": "stream",
     "text": [
      "Shaving peaks...\n",
      "Done shaving peaks.\n",
      "Zero-padding the reads...\n",
      "Done zero-padding.\n"
     ]
    }
   ],
   "source": [
    "## read in the reads data and zscores\n",
    "reads_raw, chrom = file_funcs.open_wig(reads_filename)\n",
    "\n",
    "## find the peaks and shave them\n",
    "peaks, chrom = file_funcs.open_wig(peaks_filename)\n",
    "reads_smoothed = utility_funcs.smooth_peaks(peaks, reads_raw)\n",
    "\n",
    "## zero-pad the reads\n",
    "reads_pad = utility_funcs.zero_padding(reads_smoothed)\n",
    "reads = reads_pad.copy()"
   ]
  },
  {
   "cell_type": "markdown",
   "metadata": {},
   "source": [
    "#### 3.2 Slope blurring\n",
    "\n",
    "Creates a ReadsData object and calculates cumulative sum, blurred data, and derivative of blurred data."
   ]
  },
  {
   "cell_type": "code",
   "execution_count": 9,
   "metadata": {},
   "outputs": [
    {
     "name": "stdout",
     "output_type": "stream",
     "text": [
      "Calculating blurred slope... This can take a few minutes\n",
      "index:  0 , time:  2022-06-24 09:36:21.452021\n",
      "index:  0 , time:  2022-06-24 09:36:21.454018\n",
      "Done calculating blurred slope\n"
     ]
    }
   ],
   "source": [
    "reads_obj = rmp.ReadsData(reads)\n",
    "reads_obj.process_data(window_width = window_width, blur_width = blur_width)"
   ]
  },
  {
   "cell_type": "markdown",
   "metadata": {},
   "source": [
    "#### 3.3 Finding positive and negative stretches\n",
    "\n",
    "Creates two StretchData objects, one for increasing stretches and one for decreasing stretches"
   ]
  },
  {
   "cell_type": "code",
   "execution_count": 11,
   "metadata": {},
   "outputs": [
    {
     "name": "stdout",
     "output_type": "stream",
     "text": [
      "-- Increasing stretches -- \n",
      "before length filtering:  32 \n",
      "after length filtering:  0\n",
      "\n",
      "-- Decreasing stretches -- \n",
      "before length filtering:  31 \n",
      "after length filtering:  2\n"
     ]
    }
   ],
   "source": [
    "## increasing stretches\n",
    "inc = rmp.StretchData(reads_obj, 'positive')    # create object\n",
    "inc.stretch_search()                            # find all increasing stretches\n",
    "inc.filter_stretch_length(min_gap = min_cutoff) # apply a minimum cutoff for stretch length\n",
    "\n",
    "## decreasing stretches\n",
    "dec = rmp.StretchData(reads_obj, 'negative')\n",
    "dec.stretch_search()\n",
    "dec.filter_stretch_length(min_gap = min_cutoff)\n",
    "\n",
    "## print out summary\n",
    "print('-- Increasing stretches --',\n",
    "      '\\nbefore length filtering: ', inc.search_starts.shape[0], \n",
    "      '\\nafter length filtering: ', inc.starts.shape[0])\n",
    "\n",
    "print('\\n-- Decreasing stretches --',\n",
    "      '\\nbefore length filtering: ', dec.search_starts.shape[0], \n",
    "      '\\nafter length filtering: ', dec.starts.shape[0])"
   ]
  },
  {
   "cell_type": "markdown",
   "metadata": {
    "tags": []
   },
   "source": [
    "### 4. Output the results to .csv and .wig"
   ]
  },
  {
   "cell_type": "markdown",
   "metadata": {},
   "source": [
    "Expect 3 files:\n",
    "* Increasing stretches .csv\n",
    "* Decreasing stretches .csv\n",
    "* Combined .wig with both increasing and decreasing stretches"
   ]
  },
  {
   "cell_type": "code",
   "execution_count": 12,
   "metadata": {},
   "outputs": [
    {
     "name": "stdout",
     "output_type": "stream",
     "text": [
      "Writing the ramps/steps file to a .wig\n",
      "Done writing the wig.\n"
     ]
    }
   ],
   "source": [
    "inc.output_csv(inc_output_filename)\n",
    "dec.output_csv(dec_output_filename)\n",
    "rmp.output_to_wig(inc, dec, wig_output_filename, chrom)"
   ]
  },
  {
   "cell_type": "code",
   "execution_count": null,
   "metadata": {},
   "outputs": [],
   "source": []
  }
 ],
 "metadata": {
  "kernelspec": {
   "display_name": "Python 3",
   "language": "python",
   "name": "python3"
  },
  "language_info": {
   "codemirror_mode": {
    "name": "ipython",
    "version": 3
   },
   "file_extension": ".py",
   "mimetype": "text/x-python",
   "name": "python",
   "nbconvert_exporter": "python",
   "pygments_lexer": "ipython3",
   "version": "3.8.1"
  },
  "toc-autonumbering": false,
  "toc-showcode": false,
  "toc-showmarkdowntxt": false
 },
 "nbformat": 4,
 "nbformat_minor": 5
}
